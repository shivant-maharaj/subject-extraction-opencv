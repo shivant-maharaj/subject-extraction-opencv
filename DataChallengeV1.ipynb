{
 "cells": [
  {
   "cell_type": "code",
   "execution_count": 1,
   "id": "8b06f67b",
   "metadata": {},
   "outputs": [],
   "source": [
    "import os\n",
    "import pandas as pd\n",
    "import numpy as np\n",
    "import cv2\n",
    "import matplotlib.pyplot as plt"
   ]
  },
  {
   "cell_type": "code",
   "execution_count": 2,
   "id": "96c6c893",
   "metadata": {},
   "outputs": [],
   "source": [
    "newpath = 'C:\\DataScienceChallengeOutput'\n",
    "cnt = 0\n",
    "\n",
    "if not os.path.exists(newpath):\n",
    "    os.makedirs(newpath)"
   ]
  },
  {
   "cell_type": "code",
   "execution_count": 3,
   "id": "ab955b1c",
   "metadata": {},
   "outputs": [],
   "source": [
    "#Method to process images\n",
    "def process(img):\n",
    "    img_gray = cv2.cvtColor(img, cv2.COLOR_BGR2GRAY)\n",
    "    img_canny = cv2.Canny(img_gray, 12, 93)\n",
    "    kernel = np.ones((3, 3))\n",
    "    img_dilate = cv2.dilate(img_canny, kernel, iterations=10)\n",
    "    img_erode = cv2.erode(img_dilate, kernel, iterations=10)\n",
    "    return img_erode\n",
    "\n",
    "#Method to scale down size of images\n",
    "def scaleDown(origImg):\n",
    "    #percent by which the image is resized\n",
    "    scale_percent = 50\n",
    "\n",
    "    #calculate the 50 percent of original dimensions\n",
    "    width = int(origImg.shape[1] * scale_percent / 100)\n",
    "    height = int(origImg.shape[0] * scale_percent / 100)\n",
    "\n",
    "    # dsize\n",
    "    dsize = (width, height)\n",
    "\n",
    "    # resize image\n",
    "    output = cv2.resize(origImg, dsize)\n",
    "    return output\n",
    "\n",
    "\n",
    "#Main Method\n",
    "for x in range(1, 15):\n",
    "    \n",
    "    cnt = cnt + 1\n",
    "    \n",
    "    #Load Image\n",
    "    imgName = 'Image' + str(cnt) + '.jpg'\n",
    "    \n",
    "    #Creating Variables\n",
    "    src = cv2.imread(imgName, cv2.IMREAD_UNCHANGED)\n",
    "    srcCopy = cv2.imread(imgName, cv2.IMREAD_UNCHANGED) #because the mask was blue and method overwrote the smallImg file\n",
    "    smallImg = scaleDown(src)\n",
    "    rectImg = smallImg \n",
    "    copyImg = scaleDown(srcCopy) \n",
    "    \n",
    "    #Finding contours of foreground image\n",
    "    contours,_ = cv2.findContours(process(smallImg), cv2.RETR_EXTERNAL, cv2.CHAIN_APPROX_NONE)\n",
    "    contourImg = cv2.drawContours(smallImg, contours, -1, (0, 255, 0), 2)\n",
    "    \n",
    "    #Finding max foreground image and plotting rectangle\n",
    "    c = max(contours,key = cv2.contourArea)\n",
    "    x,y,w,h = cv2.boundingRect(c)\n",
    "    cv2.rectangle(rectImg, (x,y), (x+w,y+h), (255,0,0),2)\n",
    "    \n",
    "    #Cropping image with coordinates identified by Max Contour\n",
    "    croppedImg = copyImg[y:y+h, x:x+w]\n",
    "    \n",
    "    #Saving Images \n",
    "    cv2.imwrite(('C:\\DataScienceChallengeOutput\\OriginalImage' + str(cnt) + '.jpg'),copyImg)\n",
    "    cv2.imwrite(('C:\\DataScienceChallengeOutput\\ContouredImage' + str(cnt) + '.jpg'),rectImg)\n",
    "    cv2.imwrite(('C:\\DataScienceChallengeOutput\\FinalImage' + str(cnt) + '.jpg'), croppedImg)\n",
    "    \n",
    "    #Testing Output \n",
    "    #cv2.imshow(\"OrigImage\", copyImg)\n",
    "    #plt.imshow(cv2.cvtColor(copyImg, cv2.COLOR_BGR2RGB))\n",
    "    \n",
    "    #cv2.imshow(\"RectImage\", rectImg)\n",
    "    #plt.imshow(cv2.cvtColor(rectImg, cv2.COLOR_BGR2RGB))\n",
    "    \n",
    "    #cv2.imshow(\"croppedImage\", croppedImg)\n",
    "    #plt.imshow(cv2.cvtColor(croppedImg, cv2.COLOR_BGR2RGB))\n",
    "    \n",
    "    #cv2.waitKey(0)\n",
    "    \n",
    "\n",
    "   \n",
    "    "
   ]
  },
  {
   "cell_type": "code",
   "execution_count": null,
   "id": "aed361f9",
   "metadata": {},
   "outputs": [],
   "source": [
    "  "
   ]
  },
  {
   "cell_type": "code",
   "execution_count": null,
   "id": "850a8d38",
   "metadata": {},
   "outputs": [],
   "source": []
  },
  {
   "cell_type": "code",
   "execution_count": null,
   "id": "770b553f",
   "metadata": {},
   "outputs": [],
   "source": []
  },
  {
   "cell_type": "code",
   "execution_count": null,
   "id": "5c14a443",
   "metadata": {},
   "outputs": [],
   "source": []
  }
 ],
 "metadata": {
  "kernelspec": {
   "display_name": "Python 3",
   "language": "python",
   "name": "python3"
  },
  "language_info": {
   "codemirror_mode": {
    "name": "ipython",
    "version": 3
   },
   "file_extension": ".py",
   "mimetype": "text/x-python",
   "name": "python",
   "nbconvert_exporter": "python",
   "pygments_lexer": "ipython3",
   "version": "3.8.8"
  }
 },
 "nbformat": 4,
 "nbformat_minor": 5
}
